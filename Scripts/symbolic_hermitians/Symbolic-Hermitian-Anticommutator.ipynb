{
 "cells": [
  {
   "cell_type": "markdown",
   "metadata": {},
   "source": [
    "# Symbolic Hermitian Anticommutator"
   ]
  },
  {
   "cell_type": "code",
   "execution_count": 1,
   "metadata": {},
   "outputs": [],
   "source": [
    "import sympy\n",
    "from sympy.codegen.ast import Assignment"
   ]
  },
  {
   "cell_type": "markdown",
   "metadata": {},
   "source": [
    "Define symbols for the minimum number of real variables required to store the 3x3 Hermitian matrices we need to calculate:\n",
    "\n",
    "$\\dfrac{\\partial f}{\\partial t} = \\imath \\left[ H, f \\right]$"
   ]
  },
  {
   "cell_type": "markdown",
   "metadata": {},
   "source": [
    "Matrix entries for $f$"
   ]
  },
  {
   "cell_type": "code",
   "execution_count": 2,
   "metadata": {},
   "outputs": [],
   "source": [
    "fee_R, fuu_R, ftt_R = sympy.symbols('fee_R fuu_R ftt_R', real=True)\n",
    "feu_R, fet_R, fut_R = sympy.symbols('feu_R fet_R fut_R', real=True)\n",
    "feu_I, fet_I, fut_I = sympy.symbols('feu_I fet_I fut_I', real=True)"
   ]
  },
  {
   "cell_type": "markdown",
   "metadata": {},
   "source": [
    "Matrix entries for $\\dfrac{\\partial f}{\\partial t}$"
   ]
  },
  {
   "cell_type": "code",
   "execution_count": 3,
   "metadata": {},
   "outputs": [],
   "source": [
    "Dfee_R, Dfuu_R, Dftt_R = sympy.symbols('Dfee_R Dfuu_R Dftt_R', real=True)\n",
    "Dfeu_R, Dfet_R, Dfut_R = sympy.symbols('Dfeu_R Dfet_R Dfut_R', real=True)\n",
    "Dfeu_I, Dfet_I, Dfut_I = sympy.symbols('Dfeu_I Dfet_I Dfut_I', real=True)"
   ]
  },
  {
   "cell_type": "markdown",
   "metadata": {},
   "source": [
    "Matrix entries for $H$"
   ]
  },
  {
   "cell_type": "code",
   "execution_count": 4,
   "metadata": {},
   "outputs": [],
   "source": [
    "Hee_R, Huu_R, Htt_R = sympy.symbols('Hee_R Huu_R Htt_R', real=True)\n",
    "Heu_R, Het_R, Hut_R = sympy.symbols('Heu_R Het_R Hut_R', real=True)\n",
    "Heu_I, Het_I, Hut_I = sympy.symbols('Heu_I Het_I Hut_I', real=True)"
   ]
  },
  {
   "cell_type": "markdown",
   "metadata": {},
   "source": [
    "Define matrices $f$ and $H$ to be Hermitian by construction:"
   ]
  },
  {
   "cell_type": "code",
   "execution_count": 5,
   "metadata": {},
   "outputs": [],
   "source": [
    "F = sympy.Matrix([[fee_R, feu_R + sympy.I * feu_I, fet_R + sympy.I * fet_I],\n",
    "                  [feu_R - sympy.I * feu_I, fuu_R, fut_R + sympy.I * fut_I],\n",
    "                  [fet_R - sympy.I * fet_I, fut_R - sympy.I * fut_I, ftt_R]])"
   ]
  },
  {
   "cell_type": "code",
   "execution_count": 6,
   "metadata": {},
   "outputs": [],
   "source": [
    "H = sympy.Matrix([[Hee_R, Heu_R + sympy.I * Heu_I, Het_R + sympy.I * Het_I],\n",
    "                  [Heu_R - sympy.I * Heu_I, Huu_R, Hut_R + sympy.I * Hut_I],\n",
    "                  [Het_R - sympy.I * Het_I, Hut_R - sympy.I * Hut_I, Htt_R]])"
   ]
  },
  {
   "cell_type": "markdown",
   "metadata": {},
   "source": [
    "Calculate anticommutator $[H,f] = H \\cdot f - f \\cdot H$"
   ]
  },
  {
   "cell_type": "code",
   "execution_count": 7,
   "metadata": {},
   "outputs": [],
   "source": [
    "AC = H*F - F*H"
   ]
  },
  {
   "cell_type": "markdown",
   "metadata": {},
   "source": [
    "Calculate $\\dfrac{\\partial f}{\\partial t} = \\imath \\left[ H, f \\right]$"
   ]
  },
  {
   "cell_type": "code",
   "execution_count": 8,
   "metadata": {},
   "outputs": [],
   "source": [
    "dFdt = sympy.I * AC"
   ]
  },
  {
   "cell_type": "markdown",
   "metadata": {},
   "source": [
    "Assign elements of the $\\dfrac{\\partial f}{\\partial t}$ matrix to the real values we need to store the matrix"
   ]
  },
  {
   "cell_type": "code",
   "execution_count": 9,
   "metadata": {},
   "outputs": [],
   "source": [
    "iE = 0\n",
    "iU = 1\n",
    "iT = 2\n",
    "\n",
    "dfee_R_dt = Assignment(Dfee_R, sympy.re(dFdt[iE,iE]))\n",
    "dfuu_R_dt = Assignment(Dfuu_R, sympy.re(dFdt[iU,iU]))\n",
    "dftt_R_dt = Assignment(Dftt_R, sympy.re(dFdt[iT,iT]))\n",
    "\n",
    "dfeu_R_dt = Assignment(Dfeu_R, sympy.re(dFdt[iE,iU]))\n",
    "dfet_R_dt = Assignment(Dfet_R, sympy.re(dFdt[iE,iT]))\n",
    "dfut_R_dt = Assignment(Dfut_R, sympy.re(dFdt[iU,iT]))\n",
    "\n",
    "dfeu_I_dt = Assignment(Dfeu_I, sympy.im(dFdt[iE,iU]))\n",
    "dfet_I_dt = Assignment(Dfet_I, sympy.im(dFdt[iE,iT]))\n",
    "dfut_I_dt = Assignment(Dfut_I, sympy.im(dFdt[iU,iT]))"
   ]
  },
  {
   "cell_type": "markdown",
   "metadata": {},
   "source": [
    "Define a function to return a code string for calculating the independent variables we need to store $\\dfrac{\\partial f}{\\partial t}$"
   ]
  },
  {
   "cell_type": "code",
   "execution_count": 10,
   "metadata": {},
   "outputs": [],
   "source": [
    "def get_rhs_code():\n",
    "    lines = []\n",
    "\n",
    "    lines.append(sympy.ccode(dfee_R_dt))\n",
    "    lines.append(sympy.ccode(dfuu_R_dt))\n",
    "    lines.append(sympy.ccode(dftt_R_dt))\n",
    "    \n",
    "    lines.append(sympy.ccode(dfeu_R_dt))\n",
    "    lines.append(sympy.ccode(dfet_R_dt))\n",
    "    lines.append(sympy.ccode(dfut_R_dt))\n",
    "    \n",
    "    lines.append(sympy.ccode(dfeu_I_dt))\n",
    "    lines.append(sympy.ccode(dfet_I_dt))\n",
    "    lines.append(sympy.ccode(dfut_I_dt))\n",
    "    \n",
    "    for l in lines:\n",
    "        print(l + \"\\n\")\n",
    "\n",
    "    return \"\\n\".join(lines)"
   ]
  },
  {
   "cell_type": "code",
   "execution_count": 11,
   "metadata": {},
   "outputs": [
    {
     "name": "stdout",
     "output_type": "stream",
     "text": [
      "Dfee_R = -2*Het_I*fet_R + 2*Het_R*fet_I - 2*Heu_I*feu_R + 2*Heu_R*feu_I;\n",
      "\n",
      "Dfuu_R = 2*Heu_I*feu_R - 2*Heu_R*feu_I - 2*Hut_I*fut_R + 2*Hut_R*fut_I;\n",
      "\n",
      "Dftt_R = 2*Het_I*fet_R - 2*Het_R*fet_I + 2*Hut_I*fut_R - 2*Hut_R*fut_I;\n",
      "\n",
      "Dfeu_R = -Hee_R*feu_I - Het_I*fut_R + Het_R*fut_I + Heu_I*fee_R - Heu_I*fuu_R - Hut_I*fet_R + Hut_R*fet_I + Huu_R*feu_I;\n",
      "\n",
      "Dfet_R = -Hee_R*fet_I + Het_I*fee_R - Het_I*ftt_R - Heu_I*fut_R - Heu_R*fut_I + Htt_R*fet_I + Hut_I*feu_R + Hut_R*feu_I;\n",
      "\n",
      "Dfut_R = Het_I*feu_R - Het_R*feu_I + Heu_I*fet_R - Heu_R*fet_I + Htt_R*fut_I - Hut_I*ftt_R + Hut_I*fuu_R - Huu_R*fut_I;\n",
      "\n",
      "Dfeu_I = Hee_R*feu_R + Het_I*fut_I + Het_R*fut_R - Heu_R*fee_R + Heu_R*fuu_R - Hut_I*fet_I - Hut_R*fet_R - Huu_R*feu_R;\n",
      "\n",
      "Dfet_I = Hee_R*fet_R - Het_R*fee_R + Het_R*ftt_R - Heu_I*fut_I + Heu_R*fut_R - Htt_R*fet_R + Hut_I*feu_I - Hut_R*feu_R;\n",
      "\n",
      "Dfut_I = -Het_I*feu_I - Het_R*feu_R + Heu_I*fet_I + Heu_R*fet_R - Htt_R*fut_R + Hut_R*ftt_R - Hut_R*fuu_R + Huu_R*fut_R;\n",
      "\n"
     ]
    }
   ],
   "source": [
    "code_string = get_rhs_code()"
   ]
  },
  {
   "cell_type": "code",
   "execution_count": null,
   "metadata": {},
   "outputs": [],
   "source": []
  }
 ],
 "metadata": {
  "kernelspec": {
   "display_name": "Python 3",
   "language": "python",
   "name": "python3"
  },
  "language_info": {
   "codemirror_mode": {
    "name": "ipython",
    "version": 3
   },
   "file_extension": ".py",
   "mimetype": "text/x-python",
   "name": "python",
   "nbconvert_exporter": "python",
   "pygments_lexer": "ipython3",
   "version": "3.7.3"
  }
 },
 "nbformat": 4,
 "nbformat_minor": 4
}
